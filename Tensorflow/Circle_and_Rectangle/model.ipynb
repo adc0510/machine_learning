{
 "cells": [
  {
   "cell_type": "code",
   "execution_count": 139,
   "metadata": {},
   "outputs": [],
   "source": [
    "import cv2 \n",
    "import matplotlib.pyplot as plt\n",
    "import numpy as np\n",
    "import tensorflow as tf\n",
    "import random\n",
    "import os"
   ]
  },
  {
   "cell_type": "code",
   "execution_count": 140,
   "metadata": {},
   "outputs": [],
   "source": [
    "def generate_img():\n",
    "    for x in range(50):\n",
    "        img_c = cv2.circle(np.zeros(shape=(32,32,3)),(16,16),15,(255,255,255),-1)\n",
    "        img_r = cv2.rectangle(np.zeros(shape=(32,32,3)),(1,1),(30,30),(255,255,255),-1)\n",
    "        img_t = cv2.fillPoly(np.zeros(shape=(32,32,3)),[np.array([[1,1],[random.randint(1,30),30],[30,random.randint(1,30)]], np.int32)],(255,255,255))\n",
    "        cv2.imwrite(f\"Test/circle{x}.png\",img_c)\n",
    "        cv2.imwrite(f\"Test/rectangle{x}.png\",img_r)\n",
    "        cv2.imwrite(f\"Test/triangle{x}.png\",img_t)"
   ]
  },
  {
   "cell_type": "code",
   "execution_count": 141,
   "metadata": {},
   "outputs": [],
   "source": [
    "# generate_img()"
   ]
  },
  {
   "cell_type": "code",
   "execution_count": 142,
   "metadata": {},
   "outputs": [],
   "source": [
    "X = []\n",
    "Y = []\n",
    "X_test = []\n",
    "Y_test = []"
   ]
  },
  {
   "cell_type": "code",
   "execution_count": 143,
   "metadata": {},
   "outputs": [],
   "source": [
    "for x in os.listdir(\"Dataset\"):\n",
    "    X.append(np.array(cv2.imread(f\"Dataset/{x}\")))\n",
    "    if \"circle\" in x:\n",
    "        Y.append(0)\n",
    "    if \"rectangle\" in x:\n",
    "        Y.append(1)\n",
    "    if \"triangle\" in x:\n",
    "        Y.append(2)\n",
    "\n",
    "X = np.array(X)\n",
    "Y = np.array(Y)"
   ]
  },
  {
   "cell_type": "code",
   "execution_count": 144,
   "metadata": {},
   "outputs": [],
   "source": [
    "for x in os.listdir(\"Test\"):\n",
    "    X_test.append(np.array(cv2.imread(f\"Dataset/{x}\")))\n",
    "    if \"circle\" in x:\n",
    "        Y_test.append(0)\n",
    "    if \"rectangle\" in x:\n",
    "        Y_test.append(1)\n",
    "    if \"triangle\" in x:\n",
    "        Y_test.append(2)\n",
    "\n",
    "X_test = np.array(X)\n",
    "Y_test = np.array(Y)"
   ]
  },
  {
   "cell_type": "code",
   "execution_count": 145,
   "metadata": {},
   "outputs": [
    {
     "name": "stdout",
     "output_type": "stream",
     "text": [
      "(300, 32, 32, 3) (300,)\n"
     ]
    }
   ],
   "source": [
    "print(X.shape,Y.shape)"
   ]
  },
  {
   "cell_type": "code",
   "execution_count": 150,
   "metadata": {},
   "outputs": [],
   "source": [
    "model = tf.keras.Sequential([\n",
    "    tf.keras.layers.Conv2D(32,(3,3),activation=\"relu\",input_shape = (32,32,3)),\n",
    "    tf.keras.layers.MaxPooling2D((2, 2)),\n",
    "    tf.keras.layers.Conv2D(64,(3,3),activation=\"relu\",input_shape = (32,32,3)),\n",
    "    tf.keras.layers.MaxPooling2D((2, 2)),\n",
    "    tf.keras.layers.Conv2D(96,(3,3),activation=\"relu\",input_shape = (32,32,3)),\n",
    "    tf.keras.layers.Flatten(),\n",
    "    tf.keras.layers.Dense(10,activation=\"relu\"),\n",
    "    tf.keras.layers.Dense(3,activation=\"softmax\")\n",
    "])"
   ]
  },
  {
   "cell_type": "code",
   "execution_count": 147,
   "metadata": {},
   "outputs": [],
   "source": [
    "model.compile(optimizer=\"adam\",loss=\"sparse_categorical_crossentropy\",metrics=['accuracy'])"
   ]
  },
  {
   "cell_type": "code",
   "execution_count": 148,
   "metadata": {},
   "outputs": [
    {
     "name": "stdout",
     "output_type": "stream",
     "text": [
      "Epoch 1/10\n",
      "10/10 [==============================] - 2s 28ms/step - loss: 9.3528 - accuracy: 0.4433\n",
      "Epoch 2/10\n",
      "10/10 [==============================] - 0s 27ms/step - loss: 0.4220 - accuracy: 0.6633\n",
      "Epoch 3/10\n",
      "10/10 [==============================] - 0s 29ms/step - loss: 0.3601 - accuracy: 0.7400\n",
      "Epoch 4/10\n",
      "10/10 [==============================] - 0s 29ms/step - loss: 0.1921 - accuracy: 0.9600\n",
      "Epoch 5/10\n",
      "10/10 [==============================] - 0s 27ms/step - loss: 0.0709 - accuracy: 1.0000\n",
      "Epoch 6/10\n",
      "10/10 [==============================] - 0s 28ms/step - loss: 0.0203 - accuracy: 1.0000\n",
      "Epoch 7/10\n",
      "10/10 [==============================] - 0s 28ms/step - loss: 0.0065 - accuracy: 1.0000\n",
      "Epoch 8/10\n",
      "10/10 [==============================] - 0s 32ms/step - loss: 0.0030 - accuracy: 1.0000\n",
      "Epoch 9/10\n",
      "10/10 [==============================] - 0s 32ms/step - loss: 0.0018 - accuracy: 1.0000\n",
      "Epoch 10/10\n",
      "10/10 [==============================] - 0s 30ms/step - loss: 0.0012 - accuracy: 1.0000\n"
     ]
    },
    {
     "data": {
      "text/plain": [
       "<keras.callbacks.History at 0x1a94efa87c0>"
      ]
     },
     "execution_count": 148,
     "metadata": {},
     "output_type": "execute_result"
    }
   ],
   "source": [
    "model.fit(X,Y,epochs=10)"
   ]
  },
  {
   "cell_type": "code",
   "execution_count": 149,
   "metadata": {},
   "outputs": [
    {
     "name": "stdout",
     "output_type": "stream",
     "text": [
      "10/10 [==============================] - 0s 9ms/step - loss: 0.0010 - accuracy: 1.0000\n",
      "1.0\n"
     ]
    }
   ],
   "source": [
    "_, test_acc = model.evaluate(X_test, Y_test)\n",
    "print(test_acc)"
   ]
  }
 ],
 "metadata": {
  "kernelspec": {
   "display_name": "Python 3",
   "language": "python",
   "name": "python3"
  },
  "language_info": {
   "codemirror_mode": {
    "name": "ipython",
    "version": 3
   },
   "file_extension": ".py",
   "mimetype": "text/x-python",
   "name": "python",
   "nbconvert_exporter": "python",
   "pygments_lexer": "ipython3",
   "version": "3.10.10"
  },
  "orig_nbformat": 4,
  "vscode": {
   "interpreter": {
    "hash": "441a9cdc2f6498cd18adfd4ff3aad55dc6f5c13bb1f4800896092f44dd23e6ae"
   }
  }
 },
 "nbformat": 4,
 "nbformat_minor": 2
}
